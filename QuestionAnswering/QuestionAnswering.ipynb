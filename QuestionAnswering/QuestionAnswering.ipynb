{
  "nbformat": 4,
  "nbformat_minor": 0,
  "metadata": {
    "colab": {
      "name": "QuestionAnswering.ipynb",
      "provenance": [],
      "collapsed_sections": [],
      "machine_shape": "hm"
    },
    "kernelspec": {
      "name": "python3",
      "display_name": "Python 3"
    },
    "language_info": {
      "name": "python"
    },
    "accelerator": "GPU"
  },
  "cells": [
    {
      "cell_type": "code",
      "metadata": {
        "colab": {
          "base_uri": "https://localhost:8080/"
        },
        "id": "sgLcY-4qsZJn",
        "outputId": "b9d0f109-8be0-4db7-bed0-32438031044c"
      },
      "source": [
        "!nvidia-smi"
      ],
      "execution_count": 1,
      "outputs": [
        {
          "output_type": "stream",
          "text": [
            "Thu Apr 15 13:47:47 2021       \n",
            "+-----------------------------------------------------------------------------+\n",
            "| NVIDIA-SMI 460.67       Driver Version: 460.32.03    CUDA Version: 11.2     |\n",
            "|-------------------------------+----------------------+----------------------+\n",
            "| GPU  Name        Persistence-M| Bus-Id        Disp.A | Volatile Uncorr. ECC |\n",
            "| Fan  Temp  Perf  Pwr:Usage/Cap|         Memory-Usage | GPU-Util  Compute M. |\n",
            "|                               |                      |               MIG M. |\n",
            "|===============================+======================+======================|\n",
            "|   0  Tesla P100-PCIE...  Off  | 00000000:00:04.0 Off |                    0 |\n",
            "| N/A   39C    P0    28W / 250W |      0MiB / 16280MiB |      0%      Default |\n",
            "|                               |                      |                  N/A |\n",
            "+-------------------------------+----------------------+----------------------+\n",
            "                                                                               \n",
            "+-----------------------------------------------------------------------------+\n",
            "| Processes:                                                                  |\n",
            "|  GPU   GI   CI        PID   Type   Process name                  GPU Memory |\n",
            "|        ID   ID                                                   Usage      |\n",
            "|=============================================================================|\n",
            "|  No running processes found                                                 |\n",
            "+-----------------------------------------------------------------------------+\n"
          ],
          "name": "stdout"
        }
      ]
    },
    {
      "cell_type": "code",
      "metadata": {
        "id": "5PokNLnj40_e"
      },
      "source": [
        "import os \n",
        "import json\n",
        "import requests \n",
        "import pprint"
      ],
      "execution_count": 34,
      "outputs": []
    },
    {
      "cell_type": "markdown",
      "metadata": {
        "id": "i0kgm21l9plL"
      },
      "source": [
        "## Download the SQuAD v2 dataset and store it in the Google Drive Folder"
      ]
    },
    {
      "cell_type": "code",
      "metadata": {
        "id": "jZ1UqPgk8xu0"
      },
      "source": [
        "PATH = \"/content/drive/MyDrive/SQuAD\"\n",
        "res = requests.get(f'https://rajpurkar.github.io/SQuAD-explorer/dataset/train-v2.0.json')\n",
        "\n",
        "# loop through\n",
        "for file in ['train-v2.0.json', 'dev-v2.0.json']:\n",
        "    # make the request to download data over HTTP\n",
        "    res = requests.get(f'{url}{file}')\n",
        "    # write to file\n",
        "    with open(f'{PATH}/{file}', 'wb') as f:\n",
        "        for chunk in res.iter_content(chunk_size=4):\n",
        "            f.write(chunk)"
      ],
      "execution_count": 26,
      "outputs": []
    },
    {
      "cell_type": "markdown",
      "metadata": {
        "id": "-XJFcBNV9KWz"
      },
      "source": [
        "## There are three parts to the dataset i.e. *Questions*, *Contexts*, *Answers*\n",
        "\n",
        "1. Questions - strings containing the questionwhich we will ask our model.\n",
        "2. Contexts - larger segments of text which contain the answers to the questions\n",
        "3. Answers - extracts from the contexts that provide an answer to the question\n"
      ]
    },
    {
      "cell_type": "code",
      "metadata": {
        "id": "WrOh0pAB9KHD"
      },
      "source": [
        "def read_data(path):\n",
        "  \"\"\"\n",
        "  Reads in the data and returns the contexts, questions and answers from the JSON object\n",
        "  @params: path\n",
        "  Path to the JSON data \n",
        "  \"\"\"\n",
        "  # open JSON file and load intro dictionary\n",
        "  with open(path, 'rb') as f:\n",
        "      squad_dict = json.load(f)\n",
        "\n",
        "  # initialize lists for contexts, questions, and answers\n",
        "  contexts = []\n",
        "  questions = []\n",
        "  answers = []\n",
        "  # iterate through all data in squad data\n",
        "  for group in squad_dict['data']:\n",
        "      for passage in group['paragraphs']:\n",
        "          context = passage['context']\n",
        "          for qa in passage['qas']:\n",
        "              question = qa['question']\n",
        "              # check if we need to be extracting from 'answers' or 'plausible_answers'\n",
        "              if 'plausible_answers' in qa.keys():\n",
        "                  access = 'plausible_answers'\n",
        "              else:\n",
        "                  access = 'answers'\n",
        "              for answer in qa[access]:\n",
        "                  # append data to lists\n",
        "                  contexts.append(context)\n",
        "                  questions.append(question)\n",
        "                  answers.append(answer)\n",
        "  # return formatted data lists\n",
        "  return contexts, questions, answers"
      ],
      "execution_count": 29,
      "outputs": []
    },
    {
      "cell_type": "code",
      "metadata": {
        "id": "HsHRqdeZ8355"
      },
      "source": [
        "# Extracting the contexts, questions and answers from the paths\n",
        "train_contexts, train_questions, train_answers = read_data(f'{PATH}/train-v2.0.json')\n",
        "val_contexts, val_questions, val_answers = read_data(f'{PATH}/dev-v2.0.json')\n",
        "assert all(len(lst) > 0 for lst in [train_contexts, train_questions, train_answers])\n",
        "assert all(len(lst) > 0 for lst in [val_contexts, val_questions, val_answers])"
      ],
      "execution_count": 36,
      "outputs": []
    },
    {
      "cell_type": "code",
      "metadata": {
        "colab": {
          "base_uri": "https://localhost:8080/"
        },
        "id": "VQx8VGtN-ZX2",
        "outputId": "790fe279-d98e-4d97-f53f-748dd6aefd44"
      },
      "source": [
        "# Multiple questions and answers can stem from the same context!\n",
        "for values in zip(train_contexts, train_questions, train_answers):\n",
        "  pprint.pprint(f\"Context: {values[0]}\\nQuestion: {values[1]}\\nAnswer: {values[2]}\\n\")\n",
        "  break"
      ],
      "execution_count": 44,
      "outputs": [
        {
          "output_type": "stream",
          "text": [
            "('Context: Beyoncé Giselle Knowles-Carter (/biːˈjɒnseɪ/ bee-YON-say) (born '\n",
            " 'September 4, 1981) is an American singer, songwriter, record producer and '\n",
            " 'actress. Born and raised in Houston, Texas, she performed in various singing '\n",
            " 'and dancing competitions as a child, and rose to fame in the late 1990s as '\n",
            " \"lead singer of R&B girl-group Destiny's Child. Managed by her father, Mathew \"\n",
            " \"Knowles, the group became one of the world's best-selling girl groups of all \"\n",
            " \"time. Their hiatus saw the release of Beyoncé's debut album, Dangerously in \"\n",
            " 'Love (2003), which established her as a solo artist worldwide, earned five '\n",
            " 'Grammy Awards and featured the Billboard Hot 100 number-one singles \"Crazy '\n",
            " 'in Love\" and \"Baby Boy\".\\n'\n",
            " 'Question: When did Beyonce start becoming popular?\\n'\n",
            " \"Answer: {'text': 'in the late 1990s', 'answer_start': 269}\\n\")\n"
          ],
          "name": "stdout"
        }
      ]
    },
    {
      "cell_type": "markdown",
      "metadata": {
        "id": "kRckU-0hBsSM"
      },
      "source": [
        "## The model will be trained to find the start and the end of the answer within the context so there needs to be a value to signify the end of the answer called *answer_end*"
      ]
    },
    {
      "cell_type": "code",
      "metadata": {
        "id": "Fuw6zJQM_gSM"
      },
      "source": [
        "def add_end_idx(answers, contexts):\n",
        "  \"\"\"\n",
        "  Adds the answer_end to the context based on the answer\n",
        "  @params: answers, contexts\n",
        "  answers is the list of answers from the JSON data\n",
        "  contexts is the list of contexts from the JSON data\n",
        "  \"\"\"\n",
        "  # loop through each answer-context pair\n",
        "  for answer, context in zip(answers, contexts):\n",
        "      # gold_text refers to the answer we are expecting to find in context\n",
        "      gold_text = answer['text']\n",
        "      # we already know the start index\n",
        "      start_idx = answer['answer_start']\n",
        "      # and ideally this would be the end index...\n",
        "      end_idx = start_idx + len(gold_text)\n",
        "\n",
        "      # ...however, sometimes the answers are off by a character or two\n",
        "      if context[start_idx:end_idx] == gold_text:\n",
        "          # if the answer is not off :)\n",
        "          answer['answer_end'] = end_idx\n",
        "      else:\n",
        "          # this means the answer is off by 1-2 tokens\n",
        "          for n in [1, 2]:\n",
        "              if context[start_idx-n:end_idx-n] == gold_text:\n",
        "                  answer['answer_start'] = start_idx - n\n",
        "                  answer['answer_end'] = end_idx - n"
      ],
      "execution_count": 45,
      "outputs": []
    },
    {
      "cell_type": "code",
      "metadata": {
        "id": "HVJoiWygCVK7"
      },
      "source": [
        "add_end_idx(train_answers, train_contexts)\n",
        "add_end_idx(val_answers, val_contexts)"
      ],
      "execution_count": 46,
      "outputs": []
    },
    {
      "cell_type": "code",
      "metadata": {
        "colab": {
          "base_uri": "https://localhost:8080/"
        },
        "id": "a80CbqoQCWfG",
        "outputId": "a42c0fce-0b9e-485e-db4d-bc0b723c2ad1"
      },
      "source": [
        "train_answers[:10]"
      ],
      "execution_count": 47,
      "outputs": [
        {
          "output_type": "execute_result",
          "data": {
            "text/plain": [
              "[{'answer_end': 286, 'answer_start': 269, 'text': 'in the late 1990s'},\n",
              " {'answer_end': 226, 'answer_start': 207, 'text': 'singing and dancing'},\n",
              " {'answer_end': 530, 'answer_start': 526, 'text': '2003'},\n",
              " {'answer_end': 180, 'answer_start': 166, 'text': 'Houston, Texas'},\n",
              " {'answer_end': 286, 'answer_start': 276, 'text': 'late 1990s'},\n",
              " {'answer_end': 335, 'answer_start': 320, 'text': \"Destiny's Child\"},\n",
              " {'answer_end': 524, 'answer_start': 505, 'text': 'Dangerously in Love'},\n",
              " {'answer_end': 374, 'answer_start': 360, 'text': 'Mathew Knowles'},\n",
              " {'answer_end': 286, 'answer_start': 276, 'text': 'late 1990s'},\n",
              " {'answer_end': 301, 'answer_start': 290, 'text': 'lead singer'}]"
            ]
          },
          "metadata": {
            "tags": []
          },
          "execution_count": 47
        }
      ]
    },
    {
      "cell_type": "code",
      "metadata": {
        "id": "Iovg8yakCf-B"
      },
      "source": [
        ""
      ],
      "execution_count": null,
      "outputs": []
    }
  ]
}